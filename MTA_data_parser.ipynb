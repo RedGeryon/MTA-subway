{
 "cells": [
  {
   "cell_type": "markdown",
   "metadata": {},
   "source": [
    "## Instructions: ##\n",
    "  \n",
    "1) Place this file at the root of the folder you started jupyter notebook in.  \n",
    "2) Create a \"data/\" folder containing all turnstile data you want to parse.  \n",
    "\n",
    "_Example Structure:_  \n",
    "~~~~\n",
    "/MTA_data_parser.ipynb  \n",
    "/data  \n",
    "/data/turnstile_180922.txt\n",
    "~~~~"
   ]
  },
  {
   "cell_type": "code",
   "execution_count": 67,
   "metadata": {},
   "outputs": [],
   "source": [
    "import pandas as pd\n",
    "import matplotlib.pyplot as plt\n",
    "import pickle\n",
    "%matplotlib inline\n",
    "\n",
    "# Put filepath here\n",
    "fp = 'data/turnstile_180922.txt'\n",
    "df = pd.read_csv(fp)"
   ]
  },
  {
   "cell_type": "code",
   "execution_count": 45,
   "metadata": {},
   "outputs": [],
   "source": [
    "# Use to do preliminary inspection of data\n",
    "\n",
    "def data_inspect(df, resampled=False):\n",
    "    print(\"Summarize NAs:\")\n",
    "    print(df.isna().sum())\n",
    "    \n",
    "    u_station = df['STATION'].unique()\n",
    "    print(\"\\nNum Unique Stations:\", len(u_station))\n",
    "    print(u_station)\n",
    "    \n",
    "    u_desc = df['DESC'].unique()\n",
    "    print(\"\\n Unique Descriptions\")\n",
    "    print(u_desc)\n",
    "    \n",
    "    if resampled:\n",
    "        print(\"\\nUnique Time Vals per station\")\n",
    "        for s in u_station:\n",
    "            u_time = df[df['STATION'] == s]['DATETIME'].unique()\n",
    "            print('Station:', s)\n",
    "            print(u_time, '\\n')\n",
    "\n",
    "    else:\n",
    "        print(\"\\nUnique Time Vals per station\")\n",
    "        for s in u_station:\n",
    "            u_time = df[df['STATION'] == s]['TIME'].unique()\n",
    "            print('Station:', s)\n",
    "            print(u_time, '\\n')\n",
    "\n",
    "# data_inspect(df)"
   ]
  },
  {
   "cell_type": "code",
   "execution_count": 111,
   "metadata": {},
   "outputs": [
    {
     "name": "stdout",
     "output_type": "stream",
     "text": [
      "Done\n"
     ]
    }
   ],
   "source": [
    "# Organize data before using diff() to find absolute diff in entries/exits.\n",
    "# Zero out counter rollovers (discard)\n",
    "# Aggregate times to ensure 4 hour interval in-between\n",
    "\n",
    "def clean_data(df):\n",
    "    stop_data = {}\n",
    "    u_station = df['STATION'].unique()\n",
    "    \n",
    "    group_order = ['C/A', 'STATION', 'UNIT', 'SCP', 'DATE', 'TIME']\n",
    "    # Sort by Control Area (station), Unit (Remote unit), SCP (turnstile), Date, Time\n",
    "    df = df.sort_values(by=group_order)\n",
    "    \n",
    "    # Substract next row by prev row for magnitude of change\n",
    "    df['DIFF_ENTRY'] = df['ENTRIES'].diff()\n",
    "    df['DIFF_EXIT'] = df['ENTRIES'].diff()\n",
    "    \n",
    "    # Add datetime col to resample data\n",
    "    df['DATETIME'] = df['DATE'] + ' ' + df['TIME']\n",
    "    df['DATETIME'] = pd.to_datetime(df['DATETIME'])\n",
    "    \n",
    "    df.loc[df['DIFF_ENTRY'] < 0, 'DIFF_ENTRY'] = 0\n",
    "    df.loc[df['DIFF_ENTRY'] > 4000, 'DIFF_ENTRY'] = 0\n",
    "    \n",
    "    for s in u_station:\n",
    "        stop_data[s] = df[df['STATION'] == s][['C/A', 'UNIT', 'SCP', 'DIFF_ENTRY', 'DIFF_EXIT', 'DATETIME']]\n",
    "    \n",
    "    pickle.dump(stop_data,open('stop_data', 'wb'))\n",
    "    print('Done')\n",
    "clean_data(df)"
   ]
  },
  {
   "cell_type": "code",
   "execution_count": 126,
   "metadata": {},
   "outputs": [
    {
     "name": "stdout",
     "output_type": "stream",
     "text": [
      "59 ST\n",
      "            DIFF_ENTRY\n",
      "DATETIME              \n",
      "2018-09-15     30933.0\n",
      "2018-09-16     29742.0\n",
      "2018-09-17     62172.0\n",
      "2018-09-18     64318.0\n",
      "2018-09-19     60185.0\n",
      "2018-09-20     69404.0\n",
      "2018-09-21     68863.0\n"
     ]
    },
    {
     "data": {
      "image/png": "[encoded data removed]",
      "text/plain": [
       "<Figure size 432x288 with 1 Axes>"
      ]
     },
     "metadata": {},
     "output_type": "display_data"
    }
   ],
   "source": [
    "def plot_stop_data(fn):\n",
    "    data = pickle.load(open(fn, 'rb'))\n",
    "    for stop in data:\n",
    "        stop_data = data[stop]\n",
    "        stop_data = stop_data[['C/A', 'UNIT', 'SCP', 'DIFF_ENTRY', 'DATETIME']]\n",
    "        \n",
    "        #resample\n",
    "        grouped = stop_data.resample(rule='1D', on='DATETIME', base=0).sum()\n",
    "        print(stop)\n",
    "        print(grouped)\n",
    "        amount  = list(grouped['DIFF_ENTRY'])\n",
    "        plt.plot(amount)\n",
    "        \n",
    "        break\n",
    "        \n",
    "plot_stop_data('stop_data')"
   ]
  },
  {
   "cell_type": "code",
   "execution_count": 124,
   "metadata": {},
   "outputs": [
    {
     "name": "stdout",
     "output_type": "stream",
     "text": [
      "               ENTRIES        LAST  DAILY\n",
      "DATE                                     \n",
      "09/15/2018  4163504941  4163534550  29609\n",
      "09/16/2018  4163540211  4163563019  22808\n",
      "09/17/2018  4163566964  4163623043  56079\n",
      "09/18/2018  4163630086  4163685233  55147\n",
      "09/19/2018  4163692211  4163743383  51172\n",
      "09/20/2018  4163750571  4163810459  59888\n",
      "09/21/2018  4163818798  4163877180  58382\n"
     ]
    }
   ],
   "source": [
    "def first_last(df):\n",
    "    turnstiles_df = df\n",
    "    PREV_ENTRIES=turnstiles_df.groupby(['C/A','UNIT','SCP','STATION','DATE']).ENTRIES.first().reset_index()\n",
    "    LAST=turnstiles_df.groupby(['C/A','UNIT','SCP','STATION','DATE']).ENTRIES.last().reset_index()\n",
    "    PREV_ENTRIES['LAST']=LAST['ENTRIES']\n",
    "    PREV_ENTRIES['DAILY']=PREV_ENTRIES['LAST']-PREV_ENTRIES['ENTRIES']\n",
    "    ST59 = PREV_ENTRIES[PREV_ENTRIES['STATION'] == '59 ST']\n",
    "    print(ST59.groupby(['DATE']).sum())\n",
    "#     print(ST59[['C/A','UNIT','SCP','STATION','DATE','DAILY']])\n",
    "    \n",
    "first_last(df)"
   ]
  }
 ],
 "metadata": {
  "kernelspec": {
   "display_name": "Python 3",
   "language": "python",
   "name": "python3"
  },
  "language_info": {
   "codemirror_mode": {
    "name": "ipython",
    "version": 3
   },
   "file_extension": ".py",
   "mimetype": "text/x-python",
   "name": "python",
   "nbconvert_exporter": "python",
   "pygments_lexer": "ipython3",
   "version": "3.6.6"
  }
 },
 "nbformat": 4,
 "nbformat_minor": 2
}
