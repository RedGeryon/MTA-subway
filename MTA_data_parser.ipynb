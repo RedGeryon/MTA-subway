{
 "cells": [
  {
   "cell_type": "code",
   "execution_count": 48,
   "metadata": {},
   "outputs": [
    {
     "name": "stdout",
     "output_type": "stream",
     "text": [
      "STATION    SCP       DATE        TIME    \n",
      "1 AV       00-00-00  09/15/2018  00:00:00       0.0\n",
      "                                 04:00:00     118.0\n",
      "                                 08:00:00      63.0\n",
      "                                 12:00:00     542.0\n",
      "                                 16:00:00     770.0\n",
      "                                 20:00:00     774.0\n",
      "                     09/16/2018  00:00:00     477.0\n",
      "                                 04:00:00     123.0\n",
      "                                 08:00:00      43.0\n",
      "                                 12:00:00     379.0\n",
      "                                 16:00:00     634.0\n",
      "                                 20:00:00     642.0\n",
      "                     09/17/2018  00:00:00     277.0\n",
      "                                 04:00:00      28.0\n",
      "                                 08:00:00     435.0\n",
      "                                 12:00:00    1193.0\n",
      "                                 16:00:00     881.0\n",
      "                                 20:00:00    1035.0\n",
      "                     09/18/2018  00:00:00     342.0\n",
      "                                 04:00:00       0.0\n",
      "                                 08:00:00     402.0\n",
      "                                 12:00:00    1194.0\n",
      "                                 16:00:00     999.0\n",
      "                                 20:00:00    1055.0\n",
      "                     09/19/2018  00:00:00     300.0\n",
      "                                 04:00:00       0.0\n",
      "                                 08:00:00     291.0\n",
      "                                 12:00:00    1173.0\n",
      "                                 16:00:00     775.0\n",
      "                                 20:00:00     900.0\n",
      "                                              ...  \n",
      "ZEREGA AV  00-05-01  09/17/2018  01:00:00       0.0\n",
      "                                 05:00:00       0.0\n",
      "                                 09:00:00       0.0\n",
      "                                 13:00:00       0.0\n",
      "                                 17:00:00       0.0\n",
      "                                 21:00:00       0.0\n",
      "                     09/18/2018  01:00:00       0.0\n",
      "                                 05:00:00       0.0\n",
      "                                 09:00:00       0.0\n",
      "                                 13:00:00       0.0\n",
      "                                 17:00:00       0.0\n",
      "                                 21:00:00       0.0\n",
      "                     09/19/2018  01:00:00       0.0\n",
      "                                 05:00:00       0.0\n",
      "                                 09:00:00       0.0\n",
      "                                 13:00:00       0.0\n",
      "                                 17:00:00       0.0\n",
      "                                 21:00:00       0.0\n",
      "                     09/20/2018  01:00:00       0.0\n",
      "                                 05:00:00       0.0\n",
      "                                 09:00:00       0.0\n",
      "                                 13:00:00       0.0\n",
      "                                 17:00:00       0.0\n",
      "                                 21:00:00       0.0\n",
      "                     09/21/2018  01:00:00       0.0\n",
      "                                 05:00:00       0.0\n",
      "                                 09:00:00       0.0\n",
      "                                 13:00:00       0.0\n",
      "                                 17:00:00       0.0\n",
      "                                 21:00:00       0.0\n",
      "Name: DIFF, Length: 186432, dtype: float64\n"
     ]
    }
   ],
   "source": [
    "import pandas as pd\n",
    "\n",
    "# Put filepath here\n",
    "fp = '/Users/amhoang/Desktop/metis/sf18_ds12/turnstile_180922.txt'\n",
    "\n",
    "df = pd.read_csv(fp)\n",
    "df = df.sort_values(by=['STATION','SCP',  'DATE', 'TIME'])\n",
    "df['DIFF'] = df['ENTRIES'].diff()\n",
    "stations = df['STATION'].unique()\n",
    "# print(df['DIFF'].head(100))\n",
    "group_station = df.groupby(['STATION', 'SCP', 'DATE', 'TIME']).sum()\n",
    "print(group_station['DIFF'])\n",
    "\n",
    "# style_count = df['ENTRIES'].diff()\n"
   ]
  }
 ],
 "metadata": {
  "kernelspec": {
   "display_name": "Python 3",
   "language": "python",
   "name": "python3"
  },
  "language_info": {
   "codemirror_mode": {
    "name": "ipython",
    "version": 3
   },
   "file_extension": ".py",
   "mimetype": "text/x-python",
   "name": "python",
   "nbconvert_exporter": "python",
   "pygments_lexer": "ipython3",
   "version": "3.6.6"
  }
 },
 "nbformat": 4,
 "nbformat_minor": 2
}
