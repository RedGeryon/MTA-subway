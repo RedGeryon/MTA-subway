{
 "cells": [
  {
   "cell_type": "markdown",
   "metadata": {},
   "source": [
    "## Instructions: ##\n",
    "  \n",
    "1) Place this file at the root of the folder you started jupyter notebook in.  \n",
    "2) Create a \"data/\" folder containing all turnstile data you want to parse.  \n",
    "\n",
    "_Example Structure:_  \n",
    "~~~~\n",
    "/MTA_data_parser.ipynb  \n",
    "/data  \n",
    "/data/turnstile_180922.txt\n",
    "~~~~"
   ]
  },
  {
   "cell_type": "code",
   "execution_count": 45,
   "metadata": {},
   "outputs": [],
   "source": [
    "import pandas as pd\n",
    "import matplotlib.pyplot as plt\n",
    "%matplotlib inline\n",
    "\n",
    "# Put filepath here\n",
    "fp = 'data/turnstile_180922.txt'\n",
    "df = pd.read_csv(fp)"
   ]
  },
  {
   "cell_type": "code",
   "execution_count": 46,
   "metadata": {},
   "outputs": [],
   "source": [
    "# Use to do preliminary inspection of data\n",
    "\n",
    "def data_inspect(df):\n",
    "    print(\"Summarize NAs:\")\n",
    "    print(df.isna().sum())\n",
    "    \n",
    "    u_station = df['STATION'].unique()\n",
    "    print(\"\\nNum Unique Stations:\", len(u_station))\n",
    "    print(u_station)\n",
    "    \n",
    "    u_desc = df['DESC'].unique()\n",
    "    print(\"\\n Unique Descriptions\")\n",
    "    print(u_desc)\n",
    "    \n",
    "    print(\"\\nUnique Time Vals per station\")\n",
    "    for s in u_station:\n",
    "        u_time = df[df['STATION'] == s]['TIME'].unique()\n",
    "        print('Station:', s)\n",
    "        print(u_time, '\\n')\n",
    "        \n",
    "# data_inspect(df)"
   ]
  },
  {
   "cell_type": "code",
   "execution_count": 78,
   "metadata": {},
   "outputs": [
    {
     "name": "stdout",
     "output_type": "stream",
     "text": [
      "Rollover entries ommitted: 4028\n"
     ]
    }
   ],
   "source": [
    "# Organize data before using diff() to find absolute diff in entries/exits.\n",
    "# Zero out counter rollovers (discard)\n",
    "# Aggregate times to ensure 4 hour interval in-between\n",
    "\n",
    "def clean_data(df):\n",
    "    u_station = df['STATION'].unique()\n",
    "    \n",
    "    group_order = ['C/A', 'STATION', 'UNIT', 'SCP', 'DATE', 'TIME']\n",
    "    # Sort by Control Area (station), Unit (Remote unit), SCP (turnstile), Date, Time\n",
    "    df = df.sort_values(by=group_order)\n",
    "    # Substract next row by prev row for magnitude of change\n",
    "    df['DIFF'] = df['ENTRIES'].diff()\n",
    "    \n",
    "    # Set time entries less than 04:00:00 to 0\n",
    "    # Omit rollover entries\n",
    "    print('Rollover entries ommitted:', len(df[df['DIFF'] <0]))\n",
    "    df.loc[df['DIFF'] < 0, 'DIFF'] = 0\n",
    "    \n",
    "#     for s in u_station:\n",
    "#         group_station = df[df['STATION'] == s]\n",
    "#         group_station = group_station.groupby(group_order).sum()\n",
    "#         print(group_station['DIFF'])\n",
    "    \n",
    "clean_data(df)"
   ]
  }
 ],
 "metadata": {
  "kernelspec": {
   "display_name": "Python 3",
   "language": "python",
   "name": "python3"
  },
  "language_info": {
   "codemirror_mode": {
    "name": "ipython",
    "version": 3
   },
   "file_extension": ".py",
   "mimetype": "text/x-python",
   "name": "python",
   "nbconvert_exporter": "python",
   "pygments_lexer": "ipython3",
   "version": "3.6.6"
  }
 },
 "nbformat": 4,
 "nbformat_minor": 2
}
