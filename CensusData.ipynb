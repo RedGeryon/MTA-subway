{
 "cells": [
  {
   "cell_type": "code",
   "execution_count": null,
   "metadata": {},
   "outputs": [],
   "source": [
    "import pandas as pd\n",
    "from datetime import datetime as dt\n",
    "import datetime\n",
    "import matplotlib.pyplot as plt\n",
    "#import googlemaps\n",
    "import time\n",
    "import numpy as np\n",
    "import seaborn as sns\n",
    "import requests\n",
    "import json"
   ]
  },
  {
   "cell_type": "code",
   "execution_count": null,
   "metadata": {},
   "outputs": [],
   "source": [
    "census = pd.read_csv(\"/Users/priyanka/Downloads/ACS_16_5YR_DP03 (1)/ACS_16_5YR_DP03_with_ann.csv\")"
   ]
  },
  {
   "cell_type": "code",
   "execution_count": null,
   "metadata": {},
   "outputs": [],
   "source": [
    "filteredColumns=['GEO.id2','HC01_VC74','HC01_VC30','HC01_VC111','HC01_VC112','HC01_VC113']\n",
    "incomeData=census[filteredColumns]"
   ]
  },
  {
   "cell_type": "code",
   "execution_count": null,
   "metadata": {},
   "outputs": [],
   "source": [
    "incomeData=incomeData.loc[1:]\n",
    "incomeData=incomeData.rename(columns={'GEO.id2':'zipcode','HC01_VC74':'Total_households','HC01_VC30':'publicTransport','HC01_VC111':'100K_149K','HC01_VC112':'150K_199K','HC01_VC113':'Abv200K'})"
   ]
  },
  {
   "cell_type": "code",
   "execution_count": null,
   "metadata": {},
   "outputs": [],
   "source": [
    "zipcodes=pd.read_csv('/Users/priyanka/github/sf18_ds11/class_lectures/week01-benson/02-git_viz/Zipcodes.csv',sep='\\t',dtype={'zipcode':str},na_values=[''])"
   ]
  },
  {
   "cell_type": "code",
   "execution_count": null,
   "metadata": {},
   "outputs": [],
   "source": [
    "mta_census=pd.merge(incomeData,zipcodes,on='zipcode')"
   ]
  },
  {
   "cell_type": "code",
   "execution_count": null,
   "metadata": {},
   "outputs": [],
   "source": [
    "mta_census.Total_households=mta_census.Total_households.astype(str).astype(int)"
   ]
  },
  {
   "cell_type": "code",
   "execution_count": null,
   "metadata": {},
   "outputs": [],
   "source": [
    "mta_census['100K_149K']=mta_census['100K_149K'].astype(str).astype(int)"
   ]
  },
  {
   "cell_type": "code",
   "execution_count": null,
   "metadata": {},
   "outputs": [],
   "source": [
    "mta_census['150K_199K']=mta_census['150K_199K'].astype(str).astype(int)"
   ]
  },
  {
   "cell_type": "code",
   "execution_count": null,
   "metadata": {},
   "outputs": [],
   "source": [
    "mta_census.sort_values(by=['Total_households','publicTransport','150K_199K'],ascending=[False,False,False]).head(25)"
   ]
  },
  {
   "cell_type": "code",
   "execution_count": null,
   "metadata": {},
   "outputs": [],
   "source": [
    "mta_census['100K_200K'] = mta_census['100K_149K']+mta_census['150K_199K']"
   ]
  },
  {
   "cell_type": "code",
   "execution_count": null,
   "metadata": {},
   "outputs": [],
   "source": [
    "mta_census1=mta_census.copy()"
   ]
  },
  {
   "cell_type": "code",
   "execution_count": null,
   "metadata": {},
   "outputs": [],
   "source": [
    "del mta_census1['150K_199K']"
   ]
  },
  {
   "cell_type": "code",
   "execution_count": null,
   "metadata": {},
   "outputs": [],
   "source": [
    "mta_census1.sort_values(by=['100K_200K','Total_households'],ascending=[False,False])"
   ]
  },
  {
   "cell_type": "code",
   "execution_count": null,
   "metadata": {},
   "outputs": [],
   "source": [
    "mta_census1.groupby('100K_200K')[['station','zipcode']].max().reset_index().sort_values(by=['100K_200K'],ascending=False)"
   ]
  }
 ],
 "metadata": {
  "kernelspec": {
   "display_name": "Python 3",
   "language": "python",
   "name": "python3"
  },
  "language_info": {
   "codemirror_mode": {
    "name": "ipython",
    "version": 3
   },
   "file_extension": ".py",
   "mimetype": "text/x-python",
   "name": "python",
   "nbconvert_exporter": "python",
   "pygments_lexer": "ipython3",
   "version": "3.6.4"
  }
 },
 "nbformat": 4,
 "nbformat_minor": 2
}
