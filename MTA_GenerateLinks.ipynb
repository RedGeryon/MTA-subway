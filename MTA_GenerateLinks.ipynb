{
 "cells": [
  {
   "cell_type": "code",
   "execution_count": 119,
   "metadata": {},
   "outputs": [
    {
     "name": "stdout",
     "output_type": "stream",
     "text": [
      "['http://web.mta.info/developers/data/nyct/turnstile/turnstile_180915.txt', 'http://web.mta.info/developers/data/nyct/turnstile/turnstile_180908.txt']\n"
     ]
    },
    {
     "name": "stderr",
     "output_type": "stream",
     "text": [
      "/Users/paskin/anaconda3/lib/python3.6/site-packages/ipykernel_launcher.py:20: SettingWithCopyWarning: \n",
      "A value is trying to be set on a copy of a slice from a DataFrame.\n",
      "Try using .loc[row_indexer,col_indexer] = value instead\n",
      "\n",
      "See the caveats in the documentation: http://pandas.pydata.org/pandas-docs/stable/indexing.html#indexing-view-versus-copy\n",
      "/Users/paskin/anaconda3/lib/python3.6/site-packages/ipykernel_launcher.py:21: SettingWithCopyWarning: \n",
      "A value is trying to be set on a copy of a slice from a DataFrame.\n",
      "Try using .loc[row_indexer,col_indexer] = value instead\n",
      "\n",
      "See the caveats in the documentation: http://pandas.pydata.org/pandas-docs/stable/indexing.html#indexing-view-versus-copy\n",
      "/Users/paskin/anaconda3/lib/python3.6/site-packages/ipykernel_launcher.py:23: SettingWithCopyWarning: \n",
      "A value is trying to be set on a copy of a slice from a DataFrame.\n",
      "Try using .loc[row_indexer,col_indexer] = value instead\n",
      "\n",
      "See the caveats in the documentation: http://pandas.pydata.org/pandas-docs/stable/indexing.html#indexing-view-versus-copy\n"
     ]
    }
   ],
   "source": [
    "### THE CELL GENERATES LIST OF LINKS TO BE DOWNLOADED FROM MTA SITE BASED ON REQUIRED WEEK DEPTH OF HISTORY\n",
    "\n",
    "from bs4 import BeautifulSoup\n",
    "import requests\n",
    "\n",
    "# Grabbing the data from the web with Beautiful Soup\n",
    "r  = requests.get('http://web.mta.info/developers/turnstile.html')\n",
    "data = r.text\n",
    "soup = BeautifulSoup(data)\n",
    "links = []\n",
    "\n",
    "# Generating list of all links\n",
    "for link in soup.find_all('a'):\n",
    "    links.append(link.get('href'))\n",
    "\n",
    "# Converting list to dataframe to manipulate & filter our required links\n",
    "df = pd.DataFrame(links, columns=['link'])\n",
    "\n",
    "linkstosearch = 'data/nyct/turnstile/turnstile_'\n",
    "LINKS = df[(df['link'].str.contains(linkstosearch))==True]\n",
    "\n",
    "LINKS['PERIOD'] = LINKS.link.str.slice(30,36)\n",
    "LINKS['DATE'] = pd.to_datetime(LINKS['PERIOD'], yearfirst = True)\n",
    "\n",
    "LINKS['link'] = \"http://web.mta.info/developers/\" + LINKS['link']\n",
    "\n",
    "Weekstoload = 3  # < --- ENTER NUMBER OF WEEKS OF HISTORY TO DOWNLOAD. Now available = 438\n",
    "Listoflinks = LINKS['link'][1:Weekstoload].values.tolist()\n",
    "\n",
    "\n",
    "#print(Listoflinks)"
   ]
  },
  {
   "cell_type": "code",
   "execution_count": 137,
   "metadata": {},
   "outputs": [],
   "source": [
    "#### Downloading generated links\n",
    "\n",
    "import pandas as pd\n",
    "import requests\n",
    "\n",
    "#print(Listoflinks[1])\n",
    "#s = requests.get(Listoflinks[1]).content\n",
    "#c = pd.read_csv(\"http://web.mta.info/developers/data/nyct/turnstile/turnstile_180922.txt\")\n",
    "#print(c)\n",
    "\n",
    "d = pd.DataFrame(columns=['C/A','UNIT','SCP','STATION','LINENAME','DIVISION','DATE','TIME','DESC','ENTRIES','EXITS'])\n",
    "\n",
    "for ln in Listoflinks:\n",
    "    url = ln\n",
    "    c = pd.read_csv(url)\n",
    "    d = d.append(c, ignore_index=True)\n",
    "\n",
    "    \n"
   ]
  },
  {
   "cell_type": "code",
   "execution_count": 142,
   "metadata": {},
   "outputs": [],
   "source": [
    "### SAVE DOWNLOADED DATA TO LOCAL CSV FILE\n",
    "\n",
    "d.to_csv(\"MTA_DATA.csv\")"
   ]
  }
 ],
 "metadata": {
  "kernelspec": {
   "display_name": "Python 3",
   "language": "python",
   "name": "python3"
  }
 },
 "nbformat": 4,
 "nbformat_minor": 2
}
